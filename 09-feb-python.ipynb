{
 "cells": [
  {
   "cell_type": "code",
   "execution_count": 30,
   "id": "613bcfc5-71e4-4eac-9268-3e94d78617d0",
   "metadata": {},
   "outputs": [],
   "source": [
    "## Q No. 1 :\n",
    "class vehicle :\n",
    "    def __init__(self,name_v,speed_v,average_v):\n",
    "        self.name_of_vehicle=name_v\n",
    "        self.max_speed=speed_v\n",
    "        self.average_of_vehicle=average_v\n",
    "    def vehicle_details(self):\n",
    "        print(self.name_of_vehicle,self.max_speed,self.average_of_vehicle)\n"
   ]
  },
  {
   "cell_type": "code",
   "execution_count": 31,
   "id": "55468b3a-2cb7-49dd-8371-5d94fd329086",
   "metadata": {},
   "outputs": [],
   "source": [
    "obj=vehicle(\"creta\",150,800000)"
   ]
  },
  {
   "cell_type": "code",
   "execution_count": 32,
   "id": "42912f2b-e2cd-40aa-b94e-f0a0eea3659b",
   "metadata": {},
   "outputs": [
    {
     "name": "stdout",
     "output_type": "stream",
     "text": [
      "creta 150 800000\n"
     ]
    }
   ],
   "source": [
    "obj.vehicle_details()"
   ]
  },
  {
   "cell_type": "code",
   "execution_count": 33,
   "id": "6c262e0f-03b1-4282-93df-f86273420414",
   "metadata": {},
   "outputs": [
    {
     "data": {
      "text/plain": [
       "'creta'"
      ]
     },
     "execution_count": 33,
     "metadata": {},
     "output_type": "execute_result"
    }
   ],
   "source": [
    "obj.name_of_vehicle"
   ]
  },
  {
   "cell_type": "code",
   "execution_count": 34,
   "id": "75bacc11-c3a4-445c-b1eb-549e894f43ff",
   "metadata": {},
   "outputs": [
    {
     "data": {
      "text/plain": [
       "150"
      ]
     },
     "execution_count": 34,
     "metadata": {},
     "output_type": "execute_result"
    }
   ],
   "source": [
    "obj.max_speed"
   ]
  },
  {
   "cell_type": "code",
   "execution_count": 35,
   "id": "dd364a56-717c-4d4e-bad3-1e005824d700",
   "metadata": {},
   "outputs": [
    {
     "data": {
      "text/plain": [
       "800000"
      ]
     },
     "execution_count": 35,
     "metadata": {},
     "output_type": "execute_result"
    }
   ],
   "source": [
    "obj.average_of_vehicle"
   ]
  },
  {
   "cell_type": "code",
   "execution_count": 54,
   "id": "fc91072d-de6a-478b-bf4b-ae336ab61b37",
   "metadata": {},
   "outputs": [],
   "source": [
    "## Q No.2 :\n",
    "class vehicle :\n",
    "    def __init__(self,name_v,speed_v,average_v):\n",
    "        self.name_of_vehicle=name_v\n",
    "        self.max_speed=speed_v\n",
    "        self.average_of_vehicle=average_v\n",
    "    def vehicle_details(self):\n",
    "        print(self.name_of_vehicle,self.max_speed,self.average_of_vehicle)\n",
    "\n",
    "class car(vehicle):\n",
    "    def seating_capacity(self,capacity):\n",
    "        return self.name_of_vehicle,capacity\n"
   ]
  },
  {
   "cell_type": "code",
   "execution_count": 55,
   "id": "2393e734-9ebe-4985-b94b-9bd428375cc8",
   "metadata": {},
   "outputs": [],
   "source": [
    "c=car(\"BMW\",190,5000000)"
   ]
  },
  {
   "cell_type": "code",
   "execution_count": 56,
   "id": "83b5aeb7-d8e5-44a5-ab79-335563f05b0a",
   "metadata": {},
   "outputs": [
    {
     "data": {
      "text/plain": [
       "('BMW', 6)"
      ]
     },
     "execution_count": 56,
     "metadata": {},
     "output_type": "execute_result"
    }
   ],
   "source": [
    "c.seating_capacity(6)"
   ]
  },
  {
   "cell_type": "code",
   "execution_count": 57,
   "id": "e72e34b7-7b01-4359-8c9c-474a312a7c94",
   "metadata": {},
   "outputs": [
    {
     "data": {
      "text/plain": [
       "190"
      ]
     },
     "execution_count": 57,
     "metadata": {},
     "output_type": "execute_result"
    }
   ],
   "source": [
    "c.max_speed"
   ]
  },
  {
   "cell_type": "code",
   "execution_count": 2,
   "id": "001d5280-49e9-495d-8eb6-9841d907c309",
   "metadata": {},
   "outputs": [
    {
     "name": "stdout",
     "output_type": "stream",
     "text": [
      "In Class2\n",
      "In Class3\n",
      "In Class1\n"
     ]
    }
   ],
   "source": [
    "## Q No. 3 :\n",
    "\"\"\"\n",
    "When a class is derived from more than one base class it is called multiple Inheritance.\n",
    "The derived class inherits all the features of the base case.\n",
    "\"\"\"\n",
    "# Python Program to depict multiple inheritance\n",
    "class Class1:\n",
    "            \n",
    "    def test_class_1():\n",
    "            \n",
    "                \n",
    "        print(\"In Class1\")      \n",
    "class Class2:\n",
    "            \n",
    "            \n",
    "    def  test_class_2():\n",
    "                \n",
    "        print(\"In Class2\")\n",
    "class Class3:\n",
    "    def  test_class_3():\n",
    "            \n",
    "        print(\"In Class3\") \n",
    "        \n",
    "class Class4(Class1,Class2, Class3):\n",
    "        pass  \n",
    "\n",
    "obj=Class4\n",
    "\n",
    "obj.test_class_2()\n",
    "obj.test_class_3()\n",
    "obj.test_class_1()\n",
    "    "
   ]
  },
  {
   "cell_type": "code",
   "execution_count": 1,
   "id": "b5197fb4-033f-4a42-9e16-111553240b5e",
   "metadata": {},
   "outputs": [
    {
     "name": "stdout",
     "output_type": "stream",
     "text": [
      "21\n",
      "21\n"
     ]
    }
   ],
   "source": [
    "## Q No. 4 :\n",
    "\"\"\"\n",
    "Getters and Setters in python are often used when:\n",
    "\n",
    "We use getters & setters to add validation logic around getting and setting a value.\n",
    "To avoid direct access of a class field i.e. private variables cannot be accessed directly or modified by external user.\n",
    "\"\"\"\n",
    "# Python program showing a use\n",
    "# of get() and set() method in\n",
    "# normal function\n",
    "  \n",
    "class Geek:\n",
    "    def __init__(self, age = 0):\n",
    "         self._age = age\n",
    "      \n",
    "    # getter method\n",
    "    def get_age(self):\n",
    "        return self._age\n",
    "      \n",
    "    # setter method\n",
    "    def set_age(self, x):\n",
    "        self._age = x\n",
    "\n",
    "rahil = Geek()\n",
    "  \n",
    "# setting the age using setter\n",
    "rahil.set_age(21)\n",
    "  \n",
    "# retrieving age using getter\n",
    "print(rahil.get_age())\n",
    "  \n",
    "print(rahil._age)"
   ]
  },
  {
   "cell_type": "code",
   "execution_count": 85,
   "id": "9948b9ea-e461-463c-bd4d-8a9bb93f3a3c",
   "metadata": {},
   "outputs": [
    {
     "name": "stdout",
     "output_type": "stream",
     "text": [
      "Inside Parent\n",
      "Inside Child\n"
     ]
    }
   ],
   "source": [
    "## Q No. 5 :\n",
    "\"\"\"\n",
    "Method overriding is an ability of any object-oriented programming language that allows a subclass or\n",
    "child class to provide a specific implementation of a method that is already provided by one of its \n",
    "super-classes or parent classes. \n",
    "\"\"\"\n",
    "# Python program to demonstrate \n",
    "# method overriding\n",
    "  \n",
    "# defining parent class  \n",
    "class Parent():\n",
    "      \n",
    "    # Constructor\n",
    "    def __init__(self):\n",
    "        self.value = \"Inside Parent\"\n",
    "          \n",
    "    # Parent's show method\n",
    "    def show(self):\n",
    "        print(self.value)\n",
    "          \n",
    "# Defining child class\n",
    "class Child(Parent):\n",
    "      \n",
    "    # Constructor\n",
    "    def __init__(self):\n",
    "        self.value = \"Inside Child\"\n",
    "          \n",
    "    # Child's show method\n",
    "    def show(self):\n",
    "        print(self.value)\n",
    "          \n",
    "# Driver's code          \n",
    "obj1 = Parent()\n",
    "obj2 = Child()\n",
    "  \n",
    "obj1.show()\n",
    "obj2.show()"
   ]
  }
 ],
 "metadata": {
  "kernelspec": {
   "display_name": "Python 3 (ipykernel)",
   "language": "python",
   "name": "python3"
  },
  "language_info": {
   "codemirror_mode": {
    "name": "ipython",
    "version": 3
   },
   "file_extension": ".py",
   "mimetype": "text/x-python",
   "name": "python",
   "nbconvert_exporter": "python",
   "pygments_lexer": "ipython3",
   "version": "3.10.8"
  }
 },
 "nbformat": 4,
 "nbformat_minor": 5
}
